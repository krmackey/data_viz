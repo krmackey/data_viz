{
 "cells": [
  {
   "cell_type": "code",
   "execution_count": null,
   "id": "3328a90d",
   "metadata": {},
   "outputs": [],
   "source": [
    "import pandas as pd\n",
    "import numpy as np\n",
    "import matplotlib.pyplot as plt"
   ]
  },
  {
   "cell_type": "code",
   "execution_count": null,
   "id": "1160bfbe",
   "metadata": {},
   "outputs": [],
   "source": [
    "#Data source: https://github.com/fivethirtyeight/data/blob/master/comma-survey/comma-survey.csv"
   ]
  },
  {
   "cell_type": "markdown",
   "id": "a6b424d5",
   "metadata": {},
   "source": [
    "# Part 1 - Data Wrangling"
   ]
  },
  {
   "cell_type": "code",
   "execution_count": null,
   "id": "9c68d234",
   "metadata": {},
   "outputs": [],
   "source": [
    "commas = pd.read_csv('commas.txt', sep = '\\t')"
   ]
  },
  {
   "cell_type": "code",
   "execution_count": null,
   "id": "74bd3e45",
   "metadata": {},
   "outputs": [],
   "source": [
    "commas.head()"
   ]
  },
  {
   "cell_type": "code",
   "execution_count": null,
   "id": "46f6dc63",
   "metadata": {},
   "outputs": [],
   "source": [
    "commas.columns = ['ID','sentence_1', 'heard_of_comma', 'care_about_comma','sentence_2','data_number','data_debate',\n",
    "                 'grammar_important','gender','age_group','income_cat','education','region']"
   ]
  },
  {
   "cell_type": "code",
   "execution_count": null,
   "id": "0c3b86a1",
   "metadata": {},
   "outputs": [],
   "source": [
    "commas.isnull().sum()"
   ]
  },
  {
   "cell_type": "code",
   "execution_count": null,
   "id": "1d5eae88",
   "metadata": {},
   "outputs": [],
   "source": [
    "commas['care_about_comma'].value_counts()"
   ]
  },
  {
   "cell_type": "code",
   "execution_count": null,
   "id": "a053c6c4",
   "metadata": {},
   "outputs": [],
   "source": [
    "commas['grammar_important'].value_counts()"
   ]
  },
  {
   "cell_type": "code",
   "execution_count": null,
   "id": "979bbd3e",
   "metadata": {},
   "outputs": [],
   "source": [
    "#Make this a binary variable\n",
    "def recode_importance(x):\n",
    "    if pd.isnull(x):\n",
    "        return x\n",
    "    elif 'unimportant' in x:\n",
    "        return 'Not Important'\n",
    "    else:\n",
    "        return 'Important'\n",
    "    \n",
    "commas['grammar_important_binary'] = commas['grammar_important'].apply(recode_importance)"
   ]
  },
  {
   "cell_type": "code",
   "execution_count": null,
   "id": "449c55d1",
   "metadata": {},
   "outputs": [],
   "source": [
    "commas['grammar_important_binary'].value_counts()"
   ]
  },
  {
   "cell_type": "code",
   "execution_count": null,
   "id": "a30b0623",
   "metadata": {},
   "outputs": [],
   "source": [
    "#Make the crosstab\n",
    "table = #fill in\n",
    "table"
   ]
  },
  {
   "cell_type": "code",
   "execution_count": null,
   "id": "6a63fd7d",
   "metadata": {},
   "outputs": [],
   "source": [
    "#Re-order the crosstab\n",
    "table = table.reindex(columns = ['Not at all','Not much','Some','A lot'],\n",
    "                        index = ['Not Important','Important'])\n",
    "table"
   ]
  },
  {
   "cell_type": "markdown",
   "id": "eac2c8f9",
   "metadata": {},
   "source": [
    "## Part 2 - Creating and refining a bar chart"
   ]
  },
  {
   "cell_type": "code",
   "execution_count": null,
   "id": "5ec3620e",
   "metadata": {},
   "outputs": [],
   "source": [
    "#Les défauts\n",
    "#Unstacked\n",
    "\n",
    "plt.show() #to prevent a bunch of printed output"
   ]
  },
  {
   "cell_type": "code",
   "execution_count": null,
   "id": "80c9a2cd",
   "metadata": {},
   "outputs": [],
   "source": [
    "#Stacked\n",
    "\n",
    "plt.show()"
   ]
  },
  {
   "cell_type": "code",
   "execution_count": null,
   "id": "d07189dd",
   "metadata": {},
   "outputs": [],
   "source": [
    "#https://pandas.pydata.org/docs/reference/api/pandas.DataFrame.plot.html#pandas.DataFrame.plot\n",
    "table.plot.bar(figsize = [10,8], fontsize = 16, rot = 0)\n",
    "plt.show()"
   ]
  },
  {
   "cell_type": "code",
   "execution_count": null,
   "id": "9c0f9fdc",
   "metadata": {},
   "outputs": [],
   "source": [
    "#can use colormap: https://matplotlib.org/stable/tutorials/colors/colormaps.html\n",
    "#or choose colors individually: https://matplotlib.org/stable/tutorials/colors/colormaps.html\n",
    "#some colors we could use\n",
    "#colormap = 'tab10'\n",
    "#color = ['mistyrose','seagreen','cornflowerblue','indigo']\n",
    "#color = ['lightsteelblue','cornflowerblue','royalblue','navy']\n",
    "\n",
    "plt.show()"
   ]
  },
  {
   "cell_type": "code",
   "execution_count": null,
   "id": "98356c4c",
   "metadata": {},
   "outputs": [],
   "source": [
    "#what non-data ink can we remove?\n",
    "#[ax.spines[i].set_visible(False) for i in ax.spines] #This is so you can copy-paste and avoid errors\n",
    "#ax.tick_params(length=0) #This is so you can copy-paste and avoid errors\n",
    "\n",
    "plt.show()\n"
   ]
  },
  {
   "cell_type": "code",
   "execution_count": null,
   "id": "ef5d2fab",
   "metadata": {},
   "outputs": [],
   "source": [
    "#code to save typing\n",
    "#remove y axis\n",
    "ax.get_yaxis().set_visible(False)\n",
    "\n",
    "plt.show()\n"
   ]
  },
  {
   "cell_type": "code",
   "execution_count": null,
   "id": "e8bdf23a",
   "metadata": {},
   "outputs": [],
   "source": [
    "#look at the patches\n",
    "for patch in ax.patches:\n",
    "    print(patch)"
   ]
  },
  {
   "cell_type": "code",
   "execution_count": null,
   "id": "cab008ba",
   "metadata": {},
   "outputs": [],
   "source": [
    "for patch in ax.patches:\n",
    "    print(#????) #what holds the number we want to print?"
   ]
  },
  {
   "cell_type": "code",
   "execution_count": null,
   "id": "374a93a3",
   "metadata": {},
   "outputs": [],
   "source": [
    "#add in the text"
   ]
  },
  {
   "cell_type": "code",
   "execution_count": null,
   "id": "e554d9a8",
   "metadata": {},
   "outputs": [],
   "source": [
    "#refine the text"
   ]
  },
  {
   "cell_type": "code",
   "execution_count": null,
   "id": "a068dbcc",
   "metadata": {},
   "outputs": [],
   "source": [
    "#Fix the legend!\n",
    "#these are here to save you some typing\n",
    "#let's talk about the params\n",
    "leg = plt.legend(fontsize = 16, title_fontsize = 20, title = 'Do you care about\\nthe Oxford comma?')\n",
    "#fancybox = True, shadow = True, markerfirst = False, loc= 'center left', labelspacing = 0.7\n",
    "leg.get_title().set_multialignment('center')\n",
    "#save the plot\n",
    "plt.show()"
   ]
  },
  {
   "cell_type": "code",
   "execution_count": null,
   "id": "cfbf47c2",
   "metadata": {},
   "outputs": [],
   "source": [
    "help(plt.legend)"
   ]
  },
  {
   "cell_type": "code",
   "execution_count": null,
   "id": "7a0cb6cf",
   "metadata": {},
   "outputs": [],
   "source": []
  }
 ],
 "metadata": {
  "kernelspec": {
   "display_name": "Python 3 (ipykernel)",
   "language": "python",
   "name": "python3"
  },
  "language_info": {
   "codemirror_mode": {
    "name": "ipython",
    "version": 3
   },
   "file_extension": ".py",
   "mimetype": "text/x-python",
   "name": "python",
   "nbconvert_exporter": "python",
   "pygments_lexer": "ipython3",
   "version": "3.9.12"
  }
 },
 "nbformat": 4,
 "nbformat_minor": 5
}
